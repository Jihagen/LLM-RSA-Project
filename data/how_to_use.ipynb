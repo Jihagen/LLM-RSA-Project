{
 "cells": [
  {
   "cell_type": "code",
   "execution_count": 1,
   "metadata": {},
   "outputs": [
    {
     "name": "stderr",
     "output_type": "stream",
     "text": [
      "/Users/juliahagen/anaconda3/envs/llm_rsa_env/lib/python3.9/site-packages/tqdm/auto.py:21: TqdmWarning: IProgress not found. Please update jupyter and ipywidgets. See https://ipywidgets.readthedocs.io/en/stable/user_install.html\n",
      "  from .autonotebook import tqdm as notebook_tqdm\n"
     ]
    }
   ],
   "source": [
    "from data_preparation import DatasetPreprocessor\n",
    "from data_loaders import * "
   ]
  },
  {
   "cell_type": "code",
   "execution_count": 4,
   "metadata": {},
   "outputs": [
    {
     "name": "stdout",
     "output_type": "stream",
     "text": [
      "Sample Texts: ['Do you want to come over to my place later? [SEP] A political system with no place for the less prominent groups.', 'Approach a task. [SEP] To approach the city.', 'Run rogue. [SEP] She ran 10 miles that day.', 'The general ordered the colonel to hold his position at all costs. [SEP] Hold the taxi.', 'We like to summer in the Mediterranean. [SEP] We summered in Kashmir.']\n",
      "Sample Labels: [0, 0, 0, 1, 1]\n"
     ]
    }
   ],
   "source": [
    "from transformers import AutoTokenizer\n",
    "\n",
    "# Load tokenizer\n",
    "tokenizer = AutoTokenizer.from_pretrained(\"bert-base-uncased\")\n",
    "\n",
    "# Create preprocessor for WiC\n",
    "wic_preprocessor = DatasetPreprocessor(\n",
    "    dataset_loader=load_wic_dataset,\n",
    "    tokenizer=tokenizer,\n",
    "    preprocess_fn=preprocess_wic\n",
    ")\n",
    "\n",
    "# Load and prepare the WiC dataset\n",
    "texts, labels = wic_preprocessor.load_and_prepare(split=\"train\")\n",
    "\n",
    "print(f\"Sample Texts: {texts[:5]}\")\n",
    "print(f\"Sample Labels: {labels[:5]}\")\n"
   ]
  },
  {
   "cell_type": "code",
   "execution_count": null,
   "metadata": {},
   "outputs": [],
   "source": []
  }
 ],
 "metadata": {
  "kernelspec": {
   "display_name": "llm_rsa_env",
   "language": "python",
   "name": "python3"
  },
  "language_info": {
   "codemirror_mode": {
    "name": "ipython",
    "version": 3
   },
   "file_extension": ".py",
   "mimetype": "text/x-python",
   "name": "python",
   "nbconvert_exporter": "python",
   "pygments_lexer": "ipython3",
   "version": "3.9.20"
  },
  "orig_nbformat": 4
 },
 "nbformat": 4,
 "nbformat_minor": 2
}
