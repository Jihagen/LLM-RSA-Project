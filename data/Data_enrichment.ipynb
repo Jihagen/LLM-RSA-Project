{
 "cells": [
  {
   "cell_type": "code",
   "execution_count": 2,
   "metadata": {},
   "outputs": [
    {
     "name": "stdout",
     "output_type": "stream",
     "text": [
      "[('Do you want to come over to my place later?', 'A political system with no place for the less prominent groups.', 0), ('Approach a task.', 'To approach the city.', 0), ('Run rogue.', 'She ran 10 miles that day.', 0), ('The general ordered the colonel to hold his position at all costs.', 'Hold the taxi.', 1), ('We like to summer in the Mediterranean.', 'We summered in Kashmir.', 1), ('His horse won by a head.', 'He is two heads taller than his little sister.', 1), ('The company agrees to meet the cost of any repairs.', 'This proposal meets my requirements.', 1), ('The organism has reached a crucial stage in its development.', 'Our news team brings you the latest developments.', 0), ('The problem with achievement tests is the narrowness they impose on students.', \"Frustrated by the narrowness of people's horizons.\", 1), ('The governor should act on the new energy bill.', 'Think before you act.', 1), ('Cover her face with a handkerchief.', 'Count the cash in the drawer twice just to cover yourself.', 0), ('Port the helm.', 'Port arms!', 0), ('Fall into a trap.', 'She fell to pieces after she lost her work.', 1), ('The boat had a metallic finish.', 'He applied a coat of a clear finish.', 1), (\"The farmer's field was a civil war battleground, and relics such a minnie bullets were frequently found while plowing.\", 'Field of view.', 0), ('Clothes make the man.', 'This makes the third infraction.', 1), ('Dress the windows.', 'Marlene dressed herself.', 0), ('Strike a medal.', 'The boxer struck the attacker dead.', 0), ('Under the head of minor Roman poets.', 'They tracked him back toward the head of the stream.', 0), ('It is important to use flux when soldering or oxides on the metal will prevent a good bond.', 'His opinions are in flux.', 0), ('He can hold his liquor.', \"The auditorium can't hold more than 500 people.\", 0), ('The line stretched clear around the corner.', 'You must wait in a long line at the checkout counter.', 1), ('You can create the color orange by mixing yellow and red.', 'The company was created 25 years ago.', 1), ('The United Nations must have the power to propose and organize action without being hobbled by irrelevant issues.', 'Recent federal action undermined the segregationist position.', 1), ('Spill the milk.', 'The former employee spilled all the details.', 0), (\"Beat one's foot rhythmically.\", 'I beat the traffic.', 0), ('The voice of the law.', 'Conservatism has many voices.', 1), ('Hit a ball.', 'He hit a home run.', 0), ('He knocked lightly on the closed door of the study.', 'He is a quick study.', 0), ('It can be tricky to land a helicopter.', 'Use the net to land the fish.', 1)]\n"
     ]
    }
   ],
   "source": [
    "import os\n",
    "import tempfile\n",
    "from datasets import load_dataset\n",
    "\n",
    "with tempfile.TemporaryDirectory() as tmp_cache:\n",
    "    os.environ[\"HF_DATASETS_CACHE\"] = tmp_cache\n",
    "    dataset = load_dataset(\"super_glue\", \"wic\", split=\"train\", trust_remote_code=True, streaming=True)\n",
    "    data = []\n",
    "    for idx, entry in enumerate(dataset):\n",
    "        if idx >= 30:\n",
    "            break\n",
    "        data.append((entry[\"sentence1\"], entry[\"sentence2\"], entry[\"label\"]))\n",
    "    print(data)\n"
   ]
  },
  {
   "cell_type": "code",
   "execution_count": 17,
   "metadata": {},
   "outputs": [
    {
     "data": {
      "text/html": [
       "<div>\n",
       "<style scoped>\n",
       "    .dataframe tbody tr th:only-of-type {\n",
       "        vertical-align: middle;\n",
       "    }\n",
       "\n",
       "    .dataframe tbody tr th {\n",
       "        vertical-align: top;\n",
       "    }\n",
       "\n",
       "    .dataframe thead th {\n",
       "        text-align: right;\n",
       "    }\n",
       "</style>\n",
       "<table border=\"1\" class=\"dataframe\">\n",
       "  <thead>\n",
       "    <tr style=\"text-align: right;\">\n",
       "      <th></th>\n",
       "      <th>examples</th>\n",
       "      <th>word</th>\n",
       "      <th>semantic_group_id</th>\n",
       "    </tr>\n",
       "    <tr>\n",
       "      <th>semantic_group_id</th>\n",
       "      <th></th>\n",
       "      <th></th>\n",
       "      <th></th>\n",
       "    </tr>\n",
       "  </thead>\n",
       "  <tbody>\n",
       "    <tr>\n",
       "      <th>0</th>\n",
       "      <td>[There's a bank in the river, \"There is a bank...</td>\n",
       "      <td>bank</td>\n",
       "      <td>0</td>\n",
       "    </tr>\n",
       "    <tr>\n",
       "      <th>1</th>\n",
       "      <td>[She went to the bank to open a new account, \"...</td>\n",
       "      <td>bank</td>\n",
       "      <td>1</td>\n",
       "    </tr>\n",
       "  </tbody>\n",
       "</table>\n",
       "</div>"
      ],
      "text/plain": [
       "                                                            examples  word  \\\n",
       "semantic_group_id                                                            \n",
       "0                  [There's a bank in the river, \"There is a bank...  bank   \n",
       "1                  [She went to the bank to open a new account, \"...  bank   \n",
       "\n",
       "                  semantic_group_id  \n",
       "semantic_group_id                    \n",
       "0                                 0  \n",
       "1                                 1  "
      ]
     },
     "execution_count": 17,
     "metadata": {},
     "output_type": "execute_result"
    }
   ],
   "source": [
    "import pandas as pd \n",
    "data = pd.read_pickle(\"synthetic_data_h1.pkl\")\n",
    "data\n"
   ]
  },
  {
   "cell_type": "code",
   "execution_count": 16,
   "metadata": {},
   "outputs": [
    {
     "data": {
      "text/plain": [
       "['She went to the bank to open a new account',\n",
       " '\"She deposited her paycheck at the bank.\"',\n",
       " '\"The bank teller helped her with her transaction at the bank.\"',\n",
       " '\"She forgot her debit card at the bank.\"',\n",
       " '\"The bank was crowded during lunch hour.\"']"
      ]
     },
     "execution_count": 16,
     "metadata": {},
     "output_type": "execute_result"
    }
   ],
   "source": [
    "data['examples'][1]"
   ]
  },
  {
   "cell_type": "code",
   "execution_count": null,
   "metadata": {},
   "outputs": [],
   "source": []
  }
 ],
 "metadata": {
  "kernelspec": {
   "display_name": "llm_rsa_env",
   "language": "python",
   "name": "python3"
  },
  "language_info": {
   "codemirror_mode": {
    "name": "ipython",
    "version": 3
   },
   "file_extension": ".py",
   "mimetype": "text/x-python",
   "name": "python",
   "nbconvert_exporter": "python",
   "pygments_lexer": "ipython3",
   "version": "3.9.20"
  }
 },
 "nbformat": 4,
 "nbformat_minor": 2
}
