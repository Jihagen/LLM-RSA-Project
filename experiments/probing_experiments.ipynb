{
 "cells": [
  {
   "cell_type": "code",
   "execution_count": 1,
   "metadata": {},
   "outputs": [],
   "source": [
    "import sys\n",
    "import os\n",
    "\n",
    "# Add project root to sys.path\n",
    "sys.path.append(os.path.abspath(\"..\"))\n",
    "from utils.file_manager import FileManager\n",
    "\n",
    "file_manager = FileManager()"
   ]
  },
  {
   "cell_type": "code",
   "execution_count": 2,
   "metadata": {},
   "outputs": [
    {
     "name": "stderr",
     "output_type": "stream",
     "text": [
      "/Users/juliahagen/anaconda3/envs/llm_rsa_env/lib/python3.9/site-packages/tqdm/auto.py:21: TqdmWarning: IProgress not found. Please update jupyter and ipywidgets. See https://ipywidgets.readthedocs.io/en/stable/user_install.html\n",
      "  from .autonotebook import tqdm as notebook_tqdm\n"
     ]
    },
    {
     "name": "stdout",
     "output_type": "stream",
     "text": [
      "Layer 0 Activations Shape: torch.Size([5428, 71, 768])\n",
      "Probing Classifier Results for Layer 0:\n",
      "Accuracy: 0.672, F1 Score: 0.672\n",
      "Layer 1 Activations Shape: torch.Size([5428, 71, 768])\n",
      "Probing Classifier Results for Layer 1:\n",
      "Accuracy: 0.599, F1 Score: 0.599\n",
      "Layer 2 Activations Shape: torch.Size([5428, 71, 768])\n",
      "Probing Classifier Results for Layer 2:\n",
      "Accuracy: 0.600, F1 Score: 0.600\n",
      "Skipping Layer 3 due to shape mismatch: torch.Size([1, 71, 768])\n"
     ]
    },
    {
     "name": "stderr",
     "output_type": "stream",
     "text": [
      "/Users/juliahagen/anaconda3/envs/llm_rsa_env/lib/python3.9/site-packages/sklearn/metrics/_classification.py:1531: UndefinedMetricWarning: Precision is ill-defined and being set to 0.0 in labels with no predicted samples. Use `zero_division` parameter to control this behavior.\n",
      "  _warn_prf(average, modifier, f\"{metric.capitalize()} is\", len(result))\n",
      "/Users/juliahagen/anaconda3/envs/llm_rsa_env/lib/python3.9/site-packages/sklearn/metrics/_classification.py:1531: UndefinedMetricWarning: Precision is ill-defined and being set to 0.0 in labels with no predicted samples. Use `zero_division` parameter to control this behavior.\n",
      "  _warn_prf(average, modifier, f\"{metric.capitalize()} is\", len(result))\n",
      "/Users/juliahagen/anaconda3/envs/llm_rsa_env/lib/python3.9/site-packages/sklearn/metrics/_classification.py:1531: UndefinedMetricWarning: Precision is ill-defined and being set to 0.0 in labels with no predicted samples. Use `zero_division` parameter to control this behavior.\n",
      "  _warn_prf(average, modifier, f\"{metric.capitalize()} is\", len(result))\n"
     ]
    },
    {
     "name": "stdout",
     "output_type": "stream",
     "text": [
      "Layer 4 Activations Shape: torch.Size([5428, 71, 768])\n",
      "Probing Classifier Results for Layer 4:\n",
      "Accuracy: 0.496, F1 Score: 0.329\n",
      "Layer 5 Activations Shape: torch.Size([5428, 71, 768])\n",
      "Probing Classifier Results for Layer 5:\n",
      "Accuracy: 0.599, F1 Score: 0.599\n",
      "Layer 6 Activations Shape: torch.Size([5428, 71, 768])\n",
      "Probing Classifier Results for Layer 6:\n",
      "Accuracy: 0.599, F1 Score: 0.599\n",
      "Layer 7 Activations Shape: torch.Size([5428, 71, 768])\n",
      "Probing Classifier Results for Layer 7:\n",
      "Accuracy: 0.672, F1 Score: 0.672\n",
      "Error processing Layer 8: 8\n",
      "Layer 9 Activations Shape: torch.Size([5428, 71, 768])\n",
      "Probing Classifier Results for Layer 9:\n",
      "Accuracy: 0.605, F1 Score: 0.605\n",
      "Layer 10 Activations Shape: torch.Size([5428, 71, 768])\n",
      "Probing Classifier Results for Layer 10:\n",
      "Accuracy: 0.595, F1 Score: 0.595\n",
      "Layer 11 Activations Shape: torch.Size([5428, 71, 768])\n",
      "Probing Classifier Results for Layer 11:\n",
      "Accuracy: 0.596, F1 Score: 0.596\n"
     ]
    }
   ],
   "source": [
    "from models import load_model_and_tokenizer\n",
    "from experiments import run_layer_identification_experiment\n",
    "\n",
    "# Load model and tokenizer\n",
    "model_name = \"bert-base-uncased\"\n",
    "model, tokenizer = load_model_and_tokenizer(model_name)\n",
    "\n",
    "# Run the experiment\n",
    "run_layer_identification_experiment(model, tokenizer, dataset_name=\"wic\", split=\"train\")\n"
   ]
  },
  {
   "cell_type": "code",
   "execution_count": null,
   "metadata": {},
   "outputs": [],
   "source": []
  }
 ],
 "metadata": {
  "kernelspec": {
   "display_name": "llm_rsa_env",
   "language": "python",
   "name": "python3"
  },
  "language_info": {
   "codemirror_mode": {
    "name": "ipython",
    "version": 3
   },
   "file_extension": ".py",
   "mimetype": "text/x-python",
   "name": "python",
   "nbconvert_exporter": "python",
   "pygments_lexer": "ipython3",
   "version": "3.9.20"
  },
  "orig_nbformat": 4
 },
 "nbformat": 4,
 "nbformat_minor": 2
}
