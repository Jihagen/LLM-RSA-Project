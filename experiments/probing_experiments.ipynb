{
 "cells": [
  {
   "cell_type": "code",
   "execution_count": 1,
   "metadata": {},
   "outputs": [],
   "source": [
    "import sys\n",
    "import os\n",
    "\n",
    "# Add project root to sys.path\n",
    "sys.path.append(os.path.abspath(\"..\"))\n",
    "from utils.file_manager import FileManager\n",
    "\n",
    "file_manager = FileManager()"
   ]
  },
  {
   "cell_type": "code",
   "execution_count": 2,
   "metadata": {},
   "outputs": [
    {
     "name": "stderr",
     "output_type": "stream",
     "text": [
      "/Users/juliahagen/anaconda3/envs/llm_rsa_env/lib/python3.9/site-packages/tqdm/auto.py:21: TqdmWarning: IProgress not found. Please update jupyter and ipywidgets. See https://ipywidgets.readthedocs.io/en/stable/user_install.html\n",
      "  from .autonotebook import tqdm as notebook_tqdm\n"
     ]
    },
    {
     "name": "stdout",
     "output_type": "stream",
     "text": [
      "Testing model: meta-llama/Llama-2-7b-hf\n"
     ]
    },
    {
     "name": "stderr",
     "output_type": "stream",
     "text": [
      "Loading checkpoint shards: 100%|██████████| 2/2 [00:44<00:00, 22.33s/it]\n",
      "Asking to truncate to max_length but no maximum length is provided and the model has no predefined maximum length. Default to no truncation.\n"
     ]
    },
    {
     "ename": "",
     "evalue": "",
     "output_type": "error",
     "traceback": [
      "\u001b[1;31mCanceled future for execute_request message before replies were done"
     ]
    },
    {
     "ename": "",
     "evalue": "",
     "output_type": "error",
     "traceback": [
      "\u001b[1;31mThe Kernel crashed while executing code in the the current cell or a previous cell. Please review the code in the cell(s) to identify a possible cause of the failure. Click <a href='https://aka.ms/vscodeJupyterKernelCrash'>here</a> for more info. View Jupyter <a href='command:jupyter.viewOutput'>log</a> for further details."
     ]
    }
   ],
   "source": [
    "from models import load_model_and_tokenizer\n",
    "from experiments import run_layer_identification_experiment\n",
    "\n",
    "# List of LLMs to test\n",
    "llms_to_test = [\n",
    "    # \"bert-base-uncased\",\n",
    "    # \"distilbert-base-uncased\",\n",
    "    #  \"roberta-base\",\n",
    "     \"xlm-roberta-base\",\n",
    "   # \"gpt2\",###########\n",
    "   # \"gpt-neo-1.3B\",###########\n",
    "   # \"gpt-j-6B\",###########\n",
    "    \"decapoda-research/llama-7b-hf\",\n",
    "    \"meta-llama/Llama-2-7b-hf\",\n",
    "    \"mistralai/Mistral-7B\",\n",
    "    \"tiiuae/falcon-7b\",\n",
    "    \"bigscience/bloom-560m\",\n",
    "    \"t5-base\",\n",
    "]\n",
    "\n",
    "# Dataset and split details\n",
    "dataset_name = \"wic\"\n",
    "split = \"train\"\n",
    "\n",
    "# Iterate through the list of LLMs and run the experiment\n",
    "for model_name in llms_to_test:\n",
    "    print(f\"Testing model: {model_name}\")\n",
    "    try:\n",
    "        model, tokenizer = load_model_and_tokenizer(model_name)\n",
    "        run_layer_identification_experiment(model, tokenizer, dataset_name=dataset_name, split=split)\n",
    "    except Exception as e:\n",
    "        print(f\"Failed to test model {model_name}: {e}\")\n"
   ]
  },
  {
   "cell_type": "code",
   "execution_count": null,
   "metadata": {},
   "outputs": [],
   "source": []
  }
 ],
 "metadata": {
  "kernelspec": {
   "display_name": "llm_rsa_env",
   "language": "python",
   "name": "python3"
  },
  "language_info": {
   "codemirror_mode": {
    "name": "ipython",
    "version": 3
   },
   "file_extension": ".py",
   "mimetype": "text/x-python",
   "name": "python",
   "nbconvert_exporter": "python",
   "pygments_lexer": "ipython3",
   "version": "3.9.20"
  },
  "orig_nbformat": 4
 },
 "nbformat": 4,
 "nbformat_minor": 2
}
