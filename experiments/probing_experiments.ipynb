{
 "cells": [
  {
   "cell_type": "code",
   "execution_count": 1,
   "metadata": {},
   "outputs": [],
   "source": [
    "import sys\n",
    "import os\n",
    "\n",
    "# Add project root to sys.path\n",
    "sys.path.append(os.path.abspath(\"..\"))\n",
    "from utils.file_manager import FileManager\n",
    "\n",
    "file_manager = FileManager()"
   ]
  },
  {
   "cell_type": "code",
   "execution_count": 1,
   "metadata": {},
   "outputs": [
    {
     "ename": "ModuleNotFoundError",
     "evalue": "No module named 'models'",
     "output_type": "error",
     "traceback": [
      "\u001b[0;31m---------------------------------------------------------------------------\u001b[0m",
      "\u001b[0;31mModuleNotFoundError\u001b[0m                       Traceback (most recent call last)",
      "Cell \u001b[0;32mIn[1], line 1\u001b[0m\n\u001b[0;32m----> 1\u001b[0m \u001b[39mfrom\u001b[39;00m \u001b[39mmodels\u001b[39;00m \u001b[39mimport\u001b[39;00m load_model_and_tokenizer\n\u001b[1;32m      2\u001b[0m \u001b[39mfrom\u001b[39;00m \u001b[39mexperiments\u001b[39;00m \u001b[39mimport\u001b[39;00m run_layer_identification_experiment\n\u001b[1;32m      4\u001b[0m \u001b[39m# List of LLMs to test\u001b[39;00m\n",
      "\u001b[0;31mModuleNotFoundError\u001b[0m: No module named 'models'"
     ]
    }
   ],
   "source": [
    "from models import load_model_and_tokenizer\n",
    "from experiments import run_layer_identification_experiment\n",
    "\n",
    "# List of LLMs to test\n",
    "llms_to_test = [\n",
    "    #\"bert-base-uncased\",\n",
    "    #\"distilbert-base-uncased\",\n",
    "    # \"roberta-base\",\n",
    "    \"gpt2\",\n",
    "    \"gpt-neo-1.3B\",\n",
    "    \"gpt-j-6B\",\n",
    "    \"decapoda-research/llama-7b-hf\",\n",
    "    \"meta-llama/Llama-2-7b-hf\",\n",
    "    \"mistralai/Mistral-7B\",\n",
    "    \"tiiuae/falcon-7b\",\n",
    "    \"bigscience/bloom-560m\",\n",
    "    \"t5-base\",\n",
    "    \"xlm-roberta-base\",\n",
    "]\n",
    "\n",
    "# Dataset and split details\n",
    "dataset_name = \"wic\"\n",
    "split = \"train\"\n",
    "\n",
    "# Iterate through the list of LLMs and run the experiment\n",
    "for model_name in llms_to_test:\n",
    "    print(f\"Testing model: {model_name}\")\n",
    "    try:\n",
    "        model, tokenizer = load_model_and_tokenizer(model_name)\n",
    "        run_layer_identification_experiment(model, tokenizer, dataset_name=dataset_name, split=split)\n",
    "    except Exception as e:\n",
    "        print(f\"Failed to test model {model_name}: {e}\")\n"
   ]
  },
  {
   "cell_type": "code",
   "execution_count": null,
   "metadata": {},
   "outputs": [],
   "source": []
  }
 ],
 "metadata": {
  "kernelspec": {
   "display_name": "llm_rsa_env",
   "language": "python",
   "name": "python3"
  },
  "language_info": {
   "codemirror_mode": {
    "name": "ipython",
    "version": 3
   },
   "file_extension": ".py",
   "mimetype": "text/x-python",
   "name": "python",
   "nbconvert_exporter": "python",
   "pygments_lexer": "ipython3",
   "version": "3.9.20"
  },
  "orig_nbformat": 4
 },
 "nbformat": 4,
 "nbformat_minor": 2
}
