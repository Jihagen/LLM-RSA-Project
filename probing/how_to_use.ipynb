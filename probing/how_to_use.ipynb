{
 "cells": [
  {
   "cell_type": "code",
   "execution_count": 1,
   "metadata": {},
   "outputs": [],
   "source": [
    "\n",
    "import sys\n",
    "import os\n",
    "\n",
    "# Add project root to sys.path\n",
    "sys.path.append(os.path.abspath(\"..\"))"
   ]
  },
  {
   "cell_type": "code",
   "execution_count": 2,
   "metadata": {},
   "outputs": [
    {
     "name": "stderr",
     "output_type": "stream",
     "text": [
      "/Users/juliahagen/anaconda3/envs/llm_rsa_env/lib/python3.9/site-packages/tqdm/auto.py:21: TqdmWarning: IProgress not found. Please update jupyter and ipywidgets. See https://ipywidgets.readthedocs.io/en/stable/user_install.html\n",
      "  from .autonotebook import tqdm as notebook_tqdm\n"
     ]
    }
   ],
   "source": [
    "from utils.file_manager import FileManager\n",
    "from data import DatasetPreprocessor, load_wic_dataset, preprocess_wic\n",
    "from models import AutoTokenizer, AutoModel, load_model_and_tokenizer\n",
    "from probing import ProbingClassifier\n",
    "\n",
    "file_manager = FileManager()"
   ]
  },
  {
   "cell_type": "code",
   "execution_count": 3,
   "metadata": {},
   "outputs": [],
   "source": [
    "# Load model\n",
    "model_name = \"bert-base-uncased\"\n",
    "model, tokenizer = load_model_and_tokenizer(model_name)\n",
    "\n",
    "# Create preprocessor for WiC\n",
    "wic_preprocessor = DatasetPreprocessor(\n",
    "    dataset_loader=load_wic_dataset,\n",
    "    tokenizer=tokenizer,\n",
    "    preprocess_fn=preprocess_wic\n",
    ")\n",
    "\n",
    "# Load and prepare the WiC dataset\n",
    "texts, labels = wic_preprocessor.load_and_prepare(split=\"train\")\n",
    "texts, labels = texts[:100], labels[:100]\n"
   ]
  },
  {
   "cell_type": "code",
   "execution_count": 4,
   "metadata": {},
   "outputs": [
    {
     "name": "stdout",
     "output_type": "stream",
     "text": [
      "Testing layer: 6\n"
     ]
    }
   ],
   "source": [
    "import random\n",
    "\n",
    "#randomly choose mock layer\n",
    "num_layers = model.config.num_hidden_layers\n",
    "chosen_layer = random.randint(0, num_layers - 1)\n",
    "print(f\"Testing layer: {chosen_layer}\")"
   ]
  },
  {
   "cell_type": "code",
   "execution_count": 5,
   "metadata": {},
   "outputs": [
    {
     "name": "stdout",
     "output_type": "stream",
     "text": [
      "Layer 6 Activations Shape: torch.Size([100, 61, 768])\n",
      "Probing Classifier Results for Layer 6:\n",
      "Accuracy: 0.400, F1 Score: 0.400\n"
     ]
    }
   ],
   "source": [
    "\n",
    "# Extract activations for the chosen layer\n",
    "from models import get_activations  # Adjust import path as needed\n",
    "\n",
    "layer_activations = get_activations(model, tokenizer, texts)[chosen_layer]\n",
    "\n",
    "# Check activation shape\n",
    "print(f\"Layer {chosen_layer} Activations Shape: {layer_activations.shape}\")\n",
    "\n",
    "# Prepare data for probing classifier\n",
    "probing = ProbingClassifier()\n",
    "X, y = probing.prepare_data(layer_activations, labels)\n",
    "\n",
    "# Train and evaluate\n",
    "accuracy, f1 = probing.train(X, y)\n",
    "print(f\"Probing Classifier Results for Layer {chosen_layer}:\")\n",
    "print(f\"Accuracy: {accuracy:.3f}, F1 Score: {f1:.3f}\")"
   ]
  },
  {
   "cell_type": "code",
   "execution_count": null,
   "metadata": {},
   "outputs": [],
   "source": []
  }
 ],
 "metadata": {
  "kernelspec": {
   "display_name": "llm_rsa_env",
   "language": "python",
   "name": "python3"
  },
  "language_info": {
   "codemirror_mode": {
    "name": "ipython",
    "version": 3
   },
   "file_extension": ".py",
   "mimetype": "text/x-python",
   "name": "python",
   "nbconvert_exporter": "python",
   "pygments_lexer": "ipython3",
   "version": "3.9.20"
  },
  "orig_nbformat": 4
 },
 "nbformat": 4,
 "nbformat_minor": 2
}
